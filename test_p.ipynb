{
 "cells": [
  {
   "cell_type": "code",
   "execution_count": 1,
   "metadata": {},
   "outputs": [],
   "source": [
    "import pandas as pd\n",
    "import seaborn as sns\n",
    "import requests"
   ]
  },
  {
   "cell_type": "markdown",
   "metadata": {},
   "source": [
    "## Task 1:"
   ]
  },
  {
   "cell_type": "code",
   "execution_count": 7,
   "metadata": {},
   "outputs": [
    {
     "data": {
      "text/html": [
       "<div>\n",
       "<style scoped>\n",
       "    .dataframe tbody tr th:only-of-type {\n",
       "        vertical-align: middle;\n",
       "    }\n",
       "\n",
       "    .dataframe tbody tr th {\n",
       "        vertical-align: top;\n",
       "    }\n",
       "\n",
       "    .dataframe thead th {\n",
       "        text-align: right;\n",
       "    }\n",
       "</style>\n",
       "<table border=\"1\" class=\"dataframe\">\n",
       "  <thead>\n",
       "    <tr style=\"text-align: right;\">\n",
       "      <th></th>\n",
       "      <th>sucrose</th>\n",
       "      <th>alanin</th>\n",
       "      <th>citrate</th>\n",
       "      <th>glucose</th>\n",
       "      <th>oleic_acid</th>\n",
       "    </tr>\n",
       "    <tr>\n",
       "      <th>genus</th>\n",
       "      <th></th>\n",
       "      <th></th>\n",
       "      <th></th>\n",
       "      <th></th>\n",
       "      <th></th>\n",
       "    </tr>\n",
       "  </thead>\n",
       "  <tbody>\n",
       "    <tr>\n",
       "      <th>Ascophyllum</th>\n",
       "      <td>6.825467</td>\n",
       "      <td>0.875429</td>\n",
       "      <td>5.253527</td>\n",
       "      <td>3.414961</td>\n",
       "      <td>2.432526</td>\n",
       "    </tr>\n",
       "    <tr>\n",
       "      <th>Cladophora</th>\n",
       "      <td>4.008792</td>\n",
       "      <td>3.997055</td>\n",
       "      <td>5.288311</td>\n",
       "      <td>2.800276</td>\n",
       "      <td>2.263472</td>\n",
       "    </tr>\n",
       "    <tr>\n",
       "      <th>Fucus</th>\n",
       "      <td>4.355112</td>\n",
       "      <td>3.566411</td>\n",
       "      <td>4.214878</td>\n",
       "      <td>2.814803</td>\n",
       "      <td>3.367647</td>\n",
       "    </tr>\n",
       "    <tr>\n",
       "      <th>Palmaria</th>\n",
       "      <td>0.704580</td>\n",
       "      <td>3.176440</td>\n",
       "      <td>5.573905</td>\n",
       "      <td>3.242090</td>\n",
       "      <td>2.245538</td>\n",
       "    </tr>\n",
       "    <tr>\n",
       "      <th>Saccharina</th>\n",
       "      <td>4.183596</td>\n",
       "      <td>3.524207</td>\n",
       "      <td>3.346710</td>\n",
       "      <td>4.980594</td>\n",
       "      <td>4.487252</td>\n",
       "    </tr>\n",
       "  </tbody>\n",
       "</table>\n",
       "</div>"
      ],
      "text/plain": [
       "              sucrose    alanin   citrate   glucose  oleic_acid\n",
       "genus                                                          \n",
       "Ascophyllum  6.825467  0.875429  5.253527  3.414961    2.432526\n",
       "Cladophora   4.008792  3.997055  5.288311  2.800276    2.263472\n",
       "Fucus        4.355112  3.566411  4.214878  2.814803    3.367647\n",
       "Palmaria     0.704580  3.176440  5.573905  3.242090    2.245538\n",
       "Saccharina   4.183596  3.524207  3.346710  4.980594    4.487252"
      ]
     },
     "execution_count": 7,
     "metadata": {},
     "output_type": "execute_result"
    }
   ],
   "source": [
    "df = pd.read_csv(\"/Users/mikhaillebedev/Downloads/metabolites.csv\")\n",
    "conc_df = df.groupby('genus').mean()\n",
    "conc_df"
   ]
  },
  {
   "cell_type": "code",
   "execution_count": 8,
   "metadata": {},
   "outputs": [
    {
     "data": {
      "text/plain": [
       "<matplotlib.axes._subplots.AxesSubplot at 0x1a248ed320>"
      ]
     },
     "execution_count": 8,
     "metadata": {},
     "output_type": "execute_result"
    },
    {
     "data": {
      "image/png": "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\n",
      "text/plain": [
       "<Figure size 432x288 with 2 Axes>"
      ]
     },
     "metadata": {
      "needs_background": "light"
     },
     "output_type": "display_data"
    }
   ],
   "source": [
    "sns.heatmap(conc_df, annot=True, linewidths=.5)\n"
   ]
  },
  {
   "cell_type": "code",
   "execution_count": 24,
   "metadata": {},
   "outputs": [
    {
     "name": "stderr",
     "output_type": "stream",
     "text": [
      "/anaconda3/lib/python3.7/site-packages/seaborn/distributions.py:679: UserWarning: Passing a 2D dataset for a bivariate plot is deprecated in favor of kdeplot(x, y), and it will cause an error in future versions. Please update your code.\n",
      "  warnings.warn(warn_msg, UserWarning)\n",
      "/anaconda3/lib/python3.7/site-packages/scipy/stats/stats.py:1713: FutureWarning: Using a non-tuple sequence for multidimensional indexing is deprecated; use `arr[tuple(seq)]` instead of `arr[seq]`. In the future this will be interpreted as an array index, `arr[np.array(seq)]`, which will result either in an error or a different result.\n",
      "  return np.add.reduce(sorted[indexer] * weights, axis=axis) / sumval\n"
     ]
    },
    {
     "data": {
      "text/plain": [
       "<matplotlib.axes._subplots.AxesSubplot at 0x1a26164710>"
      ]
     },
     "execution_count": 24,
     "metadata": {},
     "output_type": "execute_result"
    },
    {
     "data": {
      "image/png": "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\n",
      "text/plain": [
       "<Figure size 432x288 with 1 Axes>"
      ]
     },
     "metadata": {
      "needs_background": "light"
     },
     "output_type": "display_data"
    }
   ],
   "source": [
    "sns.kdeplot(conc_df)"
   ]
  },
  {
   "cell_type": "markdown",
   "metadata": {},
   "source": [
    "## Task 2:"
   ]
  },
  {
   "cell_type": "code",
   "execution_count": 23,
   "metadata": {},
   "outputs": [
    {
     "name": "stdout",
     "output_type": "stream",
     "text": [
      "I stopped iterating\n"
     ]
    }
   ],
   "source": [
    "l = range(1,7)\n",
    "\n",
    "my_iter = map(lambda x: (x % 3) == 0, l)\n",
    "\n",
    "while 1:\n",
    "    try:\n",
    "        next(my_iter)\n",
    "    except StopIteration:\n",
    "        print(\"I stopped iterating\")\n",
    "        break"
   ]
  },
  {
   "cell_type": "markdown",
   "metadata": {},
   "source": [
    "## Task 3:\n"
   ]
  },
  {
   "cell_type": "code",
<<<<<<< HEAD
   "execution_count": 30,
=======
   "execution_count": 14,
>>>>>>> 72336390fd28ee39a611e3a12ec8c75bd31bee3b
   "metadata": {},
   "outputs": [
    {
     "name": "stdout",
     "output_type": "stream",
     "text": [
<<<<<<< HEAD
      "17 is the year that Herod Antipas, son of Herod the Great, builds on the western shore of the Sea of Galilee, the city Tiberias in honor of Tiberius. type:  hist\n",
      "17 is known as the Feller number, after the famous mathematician William Feller who taught at Princeton University for many years. type:  math\n",
      "45 is the year that Salzburg (Juvavum) is awarded the status of a Roman municipium. type:  hist\n",
      "45 is the sixth positive integer with a prime factorization of the form p2q, with p and q being prime. type:  math\n",
      "999 is the year that the Samanid Dynasty ends with the invasion of the Karakhanids from north of the river Sir-Darya. type:  hist\n",
      "999 is a number for which we're missing a fact (submit one to numbersapi at google mail!). type:  math\n",
      "1883 is the year that the German composer Richard Wagner dies of a heart attack in Venice, Italy on February 13th. type:  hist\n",
=======
      "17 is known as the Feller number, after the famous mathematician William Feller who taught at Princeton University for many years. type:  math\n",
      "45 is the sixth positive integer with a prime factorization of the form p2q, with p and q being prime. type:  math\n",
      "999 is a boring number. type:  math\n",
>>>>>>> 72336390fd28ee39a611e3a12ec8c75bd31bee3b
      "1883 is the number of conjugacy classes of the alternating group A_{28}. type:  math\n"
     ]
    }
   ],
   "source": [
    "numbers = [17, 45, 999, 1883]\n",
    "for number in numbers:\n",
<<<<<<< HEAD
    "    for prop in (\"year\", \"math\"):\n",
    "        response = requests.get('http://numbersapi.com/{}/{}?json=true'.format(number, prop))\n",
    "\n",
    "        if response:\n",
    "            response_dict = response.json()\n",
    "            resp_type = lambda resp: \"math\" if resp == \"math\" else \"hist\"\n",
    "            print(response_dict[\"text\"], \"type: \", resp_type(response_dict[\"type\"]))"
=======
    "    response = requests.get('http://numbersapi.com/{}/math?json=true'.format(number))\n",
    "\n",
    "    if response:\n",
    "        response_dict = response.json()\n",
    "\n",
    "        print(response_dict[\"text\"], \"type: \", response_dict[\"type\"])"
>>>>>>> 72336390fd28ee39a611e3a12ec8c75bd31bee3b
   ]
  }
 ],
 "metadata": {
  "kernelspec": {
   "display_name": "Python 3",
   "language": "python",
   "name": "python3"
  },
  "language_info": {
   "codemirror_mode": {
    "name": "ipython",
    "version": 3
   },
   "file_extension": ".py",
   "mimetype": "text/x-python",
   "name": "python",
   "nbconvert_exporter": "python",
   "pygments_lexer": "ipython3",
   "version": "3.7.1"
  }
 },
 "nbformat": 4,
 "nbformat_minor": 2
}
