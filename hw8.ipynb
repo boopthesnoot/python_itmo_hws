{
 "cells": [
  {
   "cell_type": "code",
   "execution_count": 8,
   "metadata": {},
   "outputs": [
    {
     "name": "stdout",
     "output_type": "stream",
     "text": [
      "(1, 2)\n",
      "(3, 4)\n"
     ]
    }
   ],
   "source": [
    "class MyList(list):\n",
    "    def __iter__(self):\n",
    "        return PairList(self)\n",
    "    \n",
    "\n",
    "class PairList:\n",
    "    def __init__(self, lst):\n",
    "        self.n = 1\n",
    "        self.lst = lst\n",
    "        self.length = len(lst)\n",
    "    \n",
    "    def __next__(self):\n",
    "        if self.n < self.length:\n",
    "            pair = self.n\n",
    "            self.n += 2\n",
    "            return (self.lst[pair-1], self.lst[pair])\n",
    "        else:\n",
    "            raise StopIteration\n",
    "            \n",
    "            \n",
    "x = MyList([1,2,3,4])\n",
    "\n",
    "\n",
    "for i in x:\n",
    "    print(i)"
   ]
  }
 ],
 "metadata": {
  "kernelspec": {
   "display_name": "Python 3",
   "language": "python",
   "name": "python3"
  },
  "language_info": {
   "codemirror_mode": {
    "name": "ipython",
    "version": 3
   },
   "file_extension": ".py",
   "mimetype": "text/x-python",
   "name": "python",
   "nbconvert_exporter": "python",
   "pygments_lexer": "ipython3",
   "version": "3.8.2"
  }
 },
 "nbformat": 4,
 "nbformat_minor": 4
}
