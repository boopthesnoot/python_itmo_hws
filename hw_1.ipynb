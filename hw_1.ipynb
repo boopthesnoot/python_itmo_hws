{
 "cells": [
  {
   "cell_type": "code",
<<<<<<< HEAD
   "execution_count": 1,
   "metadata": {
    "pycharm": {
     "is_executing": false
    }
   },
=======
   "execution_count": 11,
   "metadata": {},
>>>>>>> f735588edb1175cf72752c1c5812d8574f259ca8
   "outputs": [],
   "source": [
    "import re\n",
    "import requests"
   ]
  },
  {
   "cell_type": "code",
<<<<<<< HEAD
   "execution_count": 3,
   "metadata": {
    "pycharm": {
     "is_executing": false
    }
   },
=======
   "execution_count": 12,
   "metadata": {},
>>>>>>> f735588edb1175cf72752c1c5812d8574f259ca8
   "outputs": [
    {
     "name": "stdout",
     "output_type": "stream",
     "text": [
<<<<<<< HEAD
      "Isocitrate lyase (P0A9G6) contains its active site (PS00161)        starting from 192th position: asvKKCGHMggk\n"
=======
      "Isocitrate lyase (P0A9G6) contains its active site (PS00161)    starting from 192 position: asvKKCGHMggk\n"
>>>>>>> f735588edb1175cf72752c1c5812d8574f259ca8
     ]
    }
   ],
   "source": [
    "fasta_link = \"https://www.uniprot.org/uniprot/P0A9G6.fasta\"\n",
    "\n",
    "response = requests.get(fasta_link)\n",
    "\n",
    "if response:\n",
    "    \n",
    "    fasta = response.text.split(\"\\n\")\n",
    "    fasta_meta = fasta[0].strip()\n",
    "    fasta_prot = \"\".join([i.strip() for i in fasta[1::]])\n",
    "\n",
    "    fasta_id = fasta_meta.split(\"|\")[1]\n",
    "    prosite_id = \"PS00161\"\n",
    "\n",
    "    match = re.search(\"(\\w{3})(K(?:K|R)CGH(?:L|M|Q|R))(\\w{3})\", fasta_prot)\n",
    "    active_site = match.group(1).lower() + match.group(2) + match.group(3).lower()\n",
    "\n",
    "    print(\n",
    "        f\"Isocitrate lyase ({fasta_id}) contains its active site ({prosite_id})\\\n",
<<<<<<< HEAD
    "        starting from {match.start() + 3}th position: {active_site}\"\n",
=======
    "    starting from {match.start() + 3} position: {active_site}\"\n",
>>>>>>> f735588edb1175cf72752c1c5812d8574f259ca8
    "    )\n",
    "\n",
    "else:\n",
    "    response.raise_for_status()\n"
   ]
<<<<<<< HEAD
=======
  },
  {
   "cell_type": "code",
   "execution_count": null,
   "metadata": {},
   "outputs": [],
   "source": []
>>>>>>> f735588edb1175cf72752c1c5812d8574f259ca8
  }
 ],
 "metadata": {
  "kernelspec": {
   "display_name": "Python 3",
   "language": "python",
   "name": "python3"
  },
  "language_info": {
   "codemirror_mode": {
    "name": "ipython",
    "version": 3
   },
   "file_extension": ".py",
   "mimetype": "text/x-python",
   "name": "python",
   "nbconvert_exporter": "python",
   "pygments_lexer": "ipython3",
   "version": "3.7.1"
  },
  "pycharm": {
   "stem_cell": {
    "cell_type": "raw",
    "metadata": {
     "collapsed": false
    },
    "source": []
   }
  }
 },
 "nbformat": 4,
 "nbformat_minor": 1
}
