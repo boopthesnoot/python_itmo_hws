{
 "cells": [
  {
   "cell_type": "code",
   "execution_count": 23,
   "metadata": {},
   "outputs": [],
   "source": [
    "import math\n",
    "from typing import List"
   ]
  },
  {
   "cell_type": "code",
   "execution_count": 17,
   "metadata": {},
   "outputs": [
    {
     "data": {
      "text/plain": [
       "{71.03711: 'A',\n",
       " 103.00919: 'C',\n",
       " 115.02694: 'D',\n",
       " 129.04259: 'E',\n",
       " 147.06841: 'F',\n",
       " 57.02146: 'G',\n",
       " 137.05891: 'H',\n",
       " 113.08406: 'L',\n",
       " 128.09496: 'K',\n",
       " 131.04049: 'M',\n",
       " 114.04293: 'N',\n",
       " 97.05276: 'P',\n",
       " 128.05858: 'Q',\n",
       " 156.10111: 'R',\n",
       " 87.03203: 'S',\n",
       " 101.04768: 'T',\n",
       " 99.06841: 'V',\n",
       " 186.07931: 'W',\n",
       " 163.06333: 'Y'}"
      ]
     },
     "execution_count": 17,
     "metadata": {},
     "output_type": "execute_result"
    }
   ],
   "source": [
    "d = \"\"\"3524.8542\n",
    "3710.9335\n",
    "3841.974\n",
    "3970.0326\n",
    "4057.0646\"\"\"\n",
    "masses = [float(i) for i in d.split()]\n",
    "\n",
    "\n",
    "acids_raw = \"\"\"A   71.03711\n",
    "C   103.00919\n",
    "D   115.02694\n",
    "E   129.04259\n",
    "F   147.06841\n",
    "G   57.02146\n",
    "H   137.05891\n",
    "I   113.08406\n",
    "K   128.09496\n",
    "L   113.08406\n",
    "M   131.04049\n",
    "N   114.04293\n",
    "P   97.05276\n",
    "Q   128.05858\n",
    "R   156.10111\n",
    "S   87.03203\n",
    "T   101.04768\n",
    "V   99.06841\n",
    "W   186.07931\n",
    "Y   163.06333\"\"\"\n",
    "acids = {float(i.split()[1]):i.split()[0] for i in acids_raw.split(\"\\n\")}"
   ]
  },
  {
   "cell_type": "code",
   "execution_count": 29,
   "metadata": {},
   "outputs": [],
   "source": [
    "def determine_acids(masses: List[int]) -> str:\n",
    "    aminoacids = []\n",
    "    for i in range(1, len(masses)):\n",
    "        amino_mass = masses[i] - masses[i-1]\n",
    "        for j in acids.keys():\n",
    "            if math.isclose(amino_mass, j, rel_tol=10e-5):\n",
    "                aminoacids.append(acids[j])\n",
    "    return \"\".join(aminoacids)"
   ]
  },
  {
   "cell_type": "code",
   "execution_count": 30,
   "metadata": {},
   "outputs": [
    {
     "data": {
      "text/plain": [
       "'WMQS'"
      ]
     },
     "execution_count": 30,
     "metadata": {},
     "output_type": "execute_result"
    }
   ],
   "source": [
    "determine_acids(masses)"
   ]
  }
 ],
 "metadata": {
  "kernelspec": {
   "display_name": "Python 3",
   "language": "python",
   "name": "python3"
  },
  "language_info": {
   "codemirror_mode": {
    "name": "ipython",
    "version": 3
   },
   "file_extension": ".py",
   "mimetype": "text/x-python",
   "name": "python",
   "nbconvert_exporter": "python",
   "pygments_lexer": "ipython3",
   "version": "3.8.2"
  }
 },
 "nbformat": 4,
 "nbformat_minor": 4
}
